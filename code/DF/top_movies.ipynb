{
 "cells": [
  {
   "cell_type": "code",
   "execution_count": 32,
   "metadata": {},
   "outputs": [],
   "source": [
    "from pyspark.sql import SparkSession\n",
    "from pyspark.sql import functions as func\n",
    "from pyspark.sql.types import StructType, StructField, StringType,IntegerType,FloatType\n",
    "import codecs\n",
    "\n",
    "# Create a SparkSession\n",
    "spark = SparkSession.builder.appName(\"Top_movies\").getOrCreate()"
   ]
  },
  {
   "cell_type": "markdown",
   "metadata": {},
   "source": [
    "# Load movie data"
   ]
  },
  {
   "cell_type": "code",
   "execution_count": 33,
   "metadata": {},
   "outputs": [
    {
     "name": "stdout",
     "output_type": "stream",
     "text": [
      "+--------+\n",
      "|movie_id|\n",
      "+--------+\n",
      "|     242|\n",
      "|     302|\n",
      "|     377|\n",
      "|      51|\n",
      "|     346|\n",
      "|     474|\n",
      "|     265|\n",
      "|     465|\n",
      "|     451|\n",
      "|      86|\n",
      "|     257|\n",
      "|    1014|\n",
      "|     222|\n",
      "|      40|\n",
      "|      29|\n",
      "|     785|\n",
      "|     387|\n",
      "|     274|\n",
      "|    1042|\n",
      "|    1184|\n",
      "+--------+\n",
      "only showing top 20 rows\n",
      "\n"
     ]
    }
   ],
   "source": [
    "schema = StructType([ \\\n",
    "        StructField(\"user_id\",IntegerType(),False), \\\n",
    "        StructField(\"movie_id\",IntegerType(),False), \\\n",
    "        StructField(\"rating\",IntegerType(),False), \\\n",
    "        StructField(\"timestamp\",FloatType(),True) ])\n",
    "df = spark.read.option(\"sep\",\"\\t\").schema(schema).csv(\"../../data/ml-100k/u.data\").select(\"movie_id\")\n",
    "df.show()"
   ]
  },
  {
   "cell_type": "markdown",
   "metadata": {},
   "source": [
    "# Load movie names as broadcast variables"
   ]
  },
  {
   "cell_type": "code",
   "execution_count": 36,
   "metadata": {},
   "outputs": [],
   "source": [
    "def loadMovieNames():\n",
    "    movieNames = {}\n",
    "    with codecs.open(\"../../data/ml-100k/u.item\",\"r\",encoding=\"ISO-8859-1\",errors=\"ignore\") as f:\n",
    "        for line in f:\n",
    "            fields = line.split(\"|\")\n",
    "            movieNames[int(fields[0])] = fields[1]\n",
    "    return movieNames\n",
    "\n",
    "nameDict = spark.sparkContext.broadcast(loadMovieNames())\n",
    "\n",
    "def lookUpName(movieID):\n",
    "    return nameDict.value[movieID]\n",
    "lookUpNameUDF= func.udf(lookUpName)"
   ]
  },
  {
   "cell_type": "markdown",
   "metadata": {},
   "source": [
    "# Find top 10 movies"
   ]
  },
  {
   "cell_type": "code",
   "execution_count": 43,
   "metadata": {},
   "outputs": [
    {
     "name": "stdout",
     "output_type": "stream",
     "text": [
      "+--------+-----+--------------------+\n",
      "|movie_id|count|         movie_title|\n",
      "+--------+-----+--------------------+\n",
      "|      50|  583|    Star Wars (1977)|\n",
      "|     258|  509|      Contact (1997)|\n",
      "|     100|  508|        Fargo (1996)|\n",
      "|     181|  507|Return of the Jed...|\n",
      "|     294|  485|    Liar Liar (1997)|\n",
      "|     286|  481|English Patient, ...|\n",
      "|     288|  478|       Scream (1996)|\n",
      "|       1|  452|    Toy Story (1995)|\n",
      "|     300|  431|Air Force One (1997)|\n",
      "|     121|  429|Independence Day ...|\n",
      "+--------+-----+--------------------+\n",
      "only showing top 10 rows\n",
      "\n"
     ]
    }
   ],
   "source": [
    "top10Movies = df.groupBy(\"movie_id\").count().orderBy(func.desc(\"count\"))\n",
    "top10MoviesWithNames = top10Movies.withColumn(\"movie_title\",lookUpNameUDF(func.col(\"movie_id\")))\n",
    "top10MoviesWithNames.show(10)"
   ]
  },
  {
   "cell_type": "code",
   "execution_count": 44,
   "metadata": {},
   "outputs": [],
   "source": [
    "spark.stop()"
   ]
  }
 ],
 "metadata": {
  "kernelspec": {
   "display_name": "Python 3.10.6 64-bit",
   "language": "python",
   "name": "python3"
  },
  "language_info": {
   "codemirror_mode": {
    "name": "ipython",
    "version": 3
   },
   "file_extension": ".py",
   "mimetype": "text/x-python",
   "name": "python",
   "nbconvert_exporter": "python",
   "pygments_lexer": "ipython3",
   "version": "3.10.6"
  },
  "orig_nbformat": 4,
  "vscode": {
   "interpreter": {
    "hash": "b0fa6594d8f4cbf19f97940f81e996739fb7646882a419484c72d19e05852a7e"
   }
  }
 },
 "nbformat": 4,
 "nbformat_minor": 2
}
