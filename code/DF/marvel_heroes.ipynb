{
 "cells": [
  {
   "cell_type": "code",
   "execution_count": 1,
   "metadata": {},
   "outputs": [
    {
     "name": "stderr",
     "output_type": "stream",
     "text": [
      "Setting default log level to \"WARN\".\n",
      "To adjust logging level use sc.setLogLevel(newLevel). For SparkR, use setLogLevel(newLevel).\n"
     ]
    },
    {
     "name": "stdout",
     "output_type": "stream",
     "text": [
      "22/10/20 14:45:12 WARN NativeCodeLoader: Unable to load native-hadoop library for your platform... using builtin-java classes where applicable\n"
     ]
    }
   ],
   "source": [
    "from pyspark.sql import SparkSession\n",
    "from pyspark.sql import functions as func\n",
    "from pyspark.sql.types import StructType, StructField, StringType,IntegerType,FloatType\n",
    "\n",
    "# Create a SparkSession\n",
    "spark = SparkSession.builder.appName(\"Marvel_heroes\").getOrCreate()"
   ]
  },
  {
   "cell_type": "code",
   "execution_count": 5,
   "metadata": {},
   "outputs": [
    {
     "name": "stdout",
     "output_type": "stream",
     "text": [
      "+---+--------------------+\n",
      "| id|                name|\n",
      "+---+--------------------+\n",
      "|  1|24-HOUR MAN/EMMANUEL|\n",
      "|  2|3-D MAN/CHARLES CHAN|\n",
      "|  3|    4-D MAN/MERCURIO|\n",
      "|  4|             8-BALL/|\n",
      "|  5|                   A|\n",
      "|  6|               A'YIN|\n",
      "|  7|        ABBOTT, JACK|\n",
      "|  8|             ABCISSA|\n",
      "|  9|                ABEL|\n",
      "| 10|ABOMINATION/EMIL BLO|\n",
      "| 11|ABOMINATION | MUTANT|\n",
      "| 12|         ABOMINATRIX|\n",
      "| 13|             ABRAXAS|\n",
      "| 14|          ADAM 3,031|\n",
      "| 15|             ABSALOM|\n",
      "| 16|ABSORBING MAN/CARL C|\n",
      "| 17|ABSORBING MAN | MUTA|\n",
      "| 18|                ACBA|\n",
      "| 19|ACHEBE, REVEREND DOC|\n",
      "| 20|            ACHILLES|\n",
      "+---+--------------------+\n",
      "only showing top 20 rows\n",
      "\n"
     ]
    }
   ],
   "source": [
    "schema = StructType([ \\\n",
    "        StructField(\"id\",IntegerType(),False), \\\n",
    "        StructField(\"name\",StringType(),False)])\n",
    "names = spark.read.schema(schema).option(\"sep\",\" \").csv(\"../../data/Marvel_Names\")\n",
    "names.show()"
   ]
  },
  {
   "cell_type": "code",
   "execution_count": 22,
   "metadata": {},
   "outputs": [
    {
     "name": "stdout",
     "output_type": "stream",
     "text": [
      "+----+-----------+\n",
      "|  id|connections|\n",
      "+----+-----------+\n",
      "| 691|          7|\n",
      "|1159|         12|\n",
      "|3959|        143|\n",
      "|1572|         36|\n",
      "|2294|         15|\n",
      "|1090|          5|\n",
      "|3606|        172|\n",
      "|3414|          8|\n",
      "| 296|         18|\n",
      "|4821|         17|\n",
      "|2162|         42|\n",
      "|1436|         10|\n",
      "|1512|         12|\n",
      "|6194|         15|\n",
      "|6240|         12|\n",
      "| 829|         38|\n",
      "|2136|          7|\n",
      "|5645|         21|\n",
      "|2069|        264|\n",
      "| 467|          1|\n",
      "+----+-----------+\n",
      "only showing top 20 rows\n",
      "\n"
     ]
    }
   ],
   "source": [
    "lines = spark.read.text(\"../../data/Marvel_Graph\")\n",
    "connections = lines \\\n",
    "    .withColumn(\"id\",func.split(func.col(\"value\"),\" \")[0]) \\\n",
    "    .withColumn(\"connections\", func.size(func.split(func.col(\"value\"),\" \")) -1) \\\n",
    "    .groupBy('id').agg(func.sum('connections').alias(\"connections\"))\n",
    "connections.show()"
   ]
  },
  {
   "cell_type": "code",
   "execution_count": 19,
   "metadata": {},
   "outputs": [
    {
     "name": "stdout",
     "output_type": "stream",
     "text": [
      "CAPTAIN AMERICA with: 1937 connections\n"
     ]
    }
   ],
   "source": [
    "mostPopular = connections.sort(func.desc('connections')).first()\n",
    "mostPopularName = names.filter(names.id == mostPopular[0]).select('name').first()\n",
    "print(mostPopularName.name + \" with: \" + str(mostPopular.connections) + \" connections\")"
   ]
  },
  {
   "cell_type": "code",
   "execution_count": 52,
   "metadata": {},
   "outputs": [
    {
     "name": "stdout",
     "output_type": "stream",
     "text": [
      "+----+-----------+--------------------+\n",
      "|  id|connections|                name|\n",
      "+----+-----------+--------------------+\n",
      "| 467|          1|        BERSERKER II|\n",
      "| 577|          1|              BLARE/|\n",
      "|3490|          1|MARVEL BOY II/MARTIN|\n",
      "|3489|          1|MARVEL BOY/MARTIN BU|\n",
      "|2139|          1|      GIURESCU, RADU|\n",
      "|1089|          1|       CLUMSY FOULUP|\n",
      "|1841|          1|              FENRIS|\n",
      "|4517|          1|              RANDAK|\n",
      "|5028|          1|           SHARKSKIN|\n",
      "| 835|          1|     CALLAHAN, DANNY|\n",
      "|1408|          1|         DEATHCHARGE|\n",
      "|4784|          1|                RUNE|\n",
      "|4945|          1|         SEA LEOPARD|\n",
      "|4602|          1|         RED WOLF II|\n",
      "|6411|          1|              ZANTOR|\n",
      "|3014|          1|JOHNSON, LYNDON BAIN|\n",
      "|3298|          1|          LUNATIK II|\n",
      "|2911|          1|                KULL|\n",
      "|2117|          1|GERVASE, LADY ALYSSA|\n",
      "+----+-----------+--------------------+\n",
      "\n"
     ]
    }
   ],
   "source": [
    "minNumOfConnections = connections.agg(func.min(\"connections\")).first()[0]\n",
    "mostObscure = connections.filter(connections.connections == minNumOfConnections)\n",
    "mostObscureNames = mostObscure.join(names, \"id\")\n",
    "mostObscureNames.show()"
   ]
  },
  {
   "cell_type": "code",
   "execution_count": 18,
   "metadata": {},
   "outputs": [
    {
     "name": "stdout",
     "output_type": "stream",
     "text": [
      "CAPTAIN AMERICA with: 1937 connections\n"
     ]
    }
   ],
   "source": []
  }
 ],
 "metadata": {
  "kernelspec": {
   "display_name": "Python 3.10.6 64-bit",
   "language": "python",
   "name": "python3"
  },
  "language_info": {
   "codemirror_mode": {
    "name": "ipython",
    "version": 3
   },
   "file_extension": ".py",
   "mimetype": "text/x-python",
   "name": "python",
   "nbconvert_exporter": "python",
   "pygments_lexer": "ipython3",
   "version": "3.10.6"
  },
  "orig_nbformat": 4,
  "vscode": {
   "interpreter": {
    "hash": "b0fa6594d8f4cbf19f97940f81e996739fb7646882a419484c72d19e05852a7e"
   }
  }
 },
 "nbformat": 4,
 "nbformat_minor": 2
}
