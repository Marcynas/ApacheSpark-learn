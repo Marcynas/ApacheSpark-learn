{
 "cells": [
  {
   "cell_type": "code",
   "execution_count": 23,
   "metadata": {},
   "outputs": [],
   "source": [
    "from pyspark.sql import SparkSession\n",
    "from pyspark.sql import functions as func\n",
    "from pyspark.sql.types import StructType, StructField, StringType,IntegerType,FloatType\n",
    "\n",
    "# Create a SparkSession\n",
    "spark = SparkSession.builder.appName(\"Min_Max_Temp\").getOrCreate()"
   ]
  },
  {
   "cell_type": "code",
   "execution_count": 24,
   "metadata": {},
   "outputs": [],
   "source": [
    "schemaTemps = StructType([ \\\n",
    "        StructField(\"station_id\",StringType(),True), \\\n",
    "        StructField(\"date\",IntegerType(),True),\\\n",
    "        StructField(\"measure_type\",StringType(),True),\\\n",
    "        StructField(\"value\",FloatType(),True)])\n",
    "\n",
    "df = spark.read.schema(schemaTemps).csv(\"../../Data/1800.csv\")"
   ]
  },
  {
   "cell_type": "markdown",
   "metadata": {},
   "source": [
    "# Select station id and temps"
   ]
  },
  {
   "cell_type": "code",
   "execution_count": 25,
   "metadata": {},
   "outputs": [
    {
     "name": "stdout",
     "output_type": "stream",
     "text": [
      "+-----------+------------+------+\n",
      "| station_id|measure_type| value|\n",
      "+-----------+------------+------+\n",
      "|ITE00100554|        TMAX| -75.0|\n",
      "|ITE00100554|        TMIN|-148.0|\n",
      "|GM000010962|        PRCP|   0.0|\n",
      "|EZE00100082|        TMAX| -86.0|\n",
      "|EZE00100082|        TMIN|-135.0|\n",
      "|ITE00100554|        TMAX| -60.0|\n",
      "|ITE00100554|        TMIN|-125.0|\n",
      "|GM000010962|        PRCP|   0.0|\n",
      "|EZE00100082|        TMAX| -44.0|\n",
      "|EZE00100082|        TMIN|-130.0|\n",
      "|ITE00100554|        TMAX| -23.0|\n",
      "|ITE00100554|        TMIN| -46.0|\n",
      "|GM000010962|        PRCP|   4.0|\n",
      "|EZE00100082|        TMAX| -10.0|\n",
      "|EZE00100082|        TMIN| -73.0|\n",
      "|ITE00100554|        TMAX|   0.0|\n",
      "|ITE00100554|        TMIN| -13.0|\n",
      "|GM000010962|        PRCP|   0.0|\n",
      "|EZE00100082|        TMAX| -55.0|\n",
      "|EZE00100082|        TMIN| -74.0|\n",
      "+-----------+------------+------+\n",
      "only showing top 20 rows\n",
      "\n"
     ]
    }
   ],
   "source": [
    "dfSelected = df.select(df.station_id, df.measure_type, df.value)\n",
    "dfSelected.show()"
   ]
  },
  {
   "cell_type": "markdown",
   "metadata": {},
   "source": [
    "# MIN"
   ]
  },
  {
   "cell_type": "code",
   "execution_count": 26,
   "metadata": {},
   "outputs": [
    {
     "name": "stdout",
     "output_type": "stream",
     "text": [
      "+-----------+----------+\n",
      "| station_id|min(value)|\n",
      "+-----------+----------+\n",
      "|ITE00100554|    -148.0|\n",
      "|EZE00100082|    -135.0|\n",
      "+-----------+----------+\n",
      "\n"
     ]
    }
   ],
   "source": [
    "dfMin = dfSelected.filter(df.measure_type == \"TMIN\")\n",
    "dfMinFinal = dfMin.groupBy('station_id').min()\n",
    "dfMinFinal.show()"
   ]
  },
  {
   "cell_type": "markdown",
   "metadata": {},
   "source": [
    "# MAX"
   ]
  },
  {
   "cell_type": "code",
   "execution_count": 27,
   "metadata": {},
   "outputs": [
    {
     "name": "stdout",
     "output_type": "stream",
     "text": [
      "+-----------+----------+\n",
      "| station_id|max(value)|\n",
      "+-----------+----------+\n",
      "|ITE00100554|     323.0|\n",
      "|EZE00100082|     323.0|\n",
      "+-----------+----------+\n",
      "\n"
     ]
    }
   ],
   "source": [
    "dfMax = dfSelected.filter(df.measure_type == \"TMAX\")\n",
    "dfMaxFinal = dfMax.groupBy('station_id').max()\n",
    "dfMaxFinal.show()"
   ]
  },
  {
   "cell_type": "markdown",
   "metadata": {},
   "source": [
    "# Combined"
   ]
  },
  {
   "cell_type": "code",
   "execution_count": 28,
   "metadata": {},
   "outputs": [
    {
     "name": "stdout",
     "output_type": "stream",
     "text": [
      "+-----------+----------+----------+\n",
      "| station_id|max(value)|min(value)|\n",
      "+-----------+----------+----------+\n",
      "|ITE00100554|     323.0|    -148.0|\n",
      "|EZE00100082|     323.0|    -135.0|\n",
      "+-----------+----------+----------+\n",
      "\n"
     ]
    }
   ],
   "source": [
    "dfFinal = dfMaxFinal.join(dfMinFinal,on=\"station_id\")\n",
    "dfFinal.show()"
   ]
  },
  {
   "cell_type": "code",
   "execution_count": 29,
   "metadata": {},
   "outputs": [],
   "source": [
    "spark.stop()"
   ]
  }
 ],
 "metadata": {
  "kernelspec": {
   "display_name": "Python 3.10.6 64-bit",
   "language": "python",
   "name": "python3"
  },
  "language_info": {
   "codemirror_mode": {
    "name": "ipython",
    "version": 3
   },
   "file_extension": ".py",
   "mimetype": "text/x-python",
   "name": "python",
   "nbconvert_exporter": "python",
   "pygments_lexer": "ipython3",
   "version": "3.10.6"
  },
  "orig_nbformat": 4,
  "vscode": {
   "interpreter": {
    "hash": "b0fa6594d8f4cbf19f97940f81e996739fb7646882a419484c72d19e05852a7e"
   }
  }
 },
 "nbformat": 4,
 "nbformat_minor": 2
}
