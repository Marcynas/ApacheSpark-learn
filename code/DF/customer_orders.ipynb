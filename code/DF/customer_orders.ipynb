{
 "cells": [
  {
   "cell_type": "code",
   "execution_count": 3,
   "metadata": {},
   "outputs": [
    {
     "name": "stderr",
     "output_type": "stream",
     "text": [
      "Setting default log level to \"WARN\".\n",
      "To adjust logging level use sc.setLogLevel(newLevel). For SparkR, use setLogLevel(newLevel).\n"
     ]
    },
    {
     "name": "stdout",
     "output_type": "stream",
     "text": [
      "22/10/20 13:11:03 WARN NativeCodeLoader: Unable to load native-hadoop library for your platform... using builtin-java classes where applicable\n"
     ]
    }
   ],
   "source": [
    "from pyspark.sql import SparkSession\n",
    "from pyspark.sql import functions as func\n",
    "from pyspark.sql.types import StructType, StructField, StringType,IntegerType,FloatType\n",
    "\n",
    "# Create a SparkSession\n",
    "spark = SparkSession.builder.appName(\"Customer_orders\").getOrCreate()"
   ]
  },
  {
   "cell_type": "code",
   "execution_count": 9,
   "metadata": {},
   "outputs": [
    {
     "name": "stderr",
     "output_type": "stream",
     "text": [
      "[Stage 0:>                                                          (0 + 1) / 1]\r"
     ]
    },
    {
     "name": "stdout",
     "output_type": "stream",
     "text": [
      "+-----------+------+\n",
      "|customer_id|amount|\n",
      "+-----------+------+\n",
      "|         44| 37.19|\n",
      "|         35| 65.89|\n",
      "|          2| 40.64|\n",
      "|         47| 14.98|\n",
      "|         29| 13.08|\n",
      "|         91| 24.59|\n",
      "|         70| 68.68|\n",
      "|         85| 28.53|\n",
      "|         53| 83.55|\n",
      "|         14|  4.32|\n",
      "|         51|  19.8|\n",
      "|         42| 57.77|\n",
      "|          2| 55.77|\n",
      "|         79| 33.17|\n",
      "|         50| 23.57|\n",
      "|         20|  6.49|\n",
      "|         15| 65.53|\n",
      "|         44| 99.19|\n",
      "|          5| 64.18|\n",
      "|         48| 32.42|\n",
      "+-----------+------+\n",
      "only showing top 20 rows\n",
      "\n"
     ]
    },
    {
     "name": "stderr",
     "output_type": "stream",
     "text": [
      "                                                                                \r"
     ]
    }
   ],
   "source": [
    "schema = StructType([ \\\n",
    "        StructField(\"customer_id\",IntegerType(),False), \\\n",
    "        StructField(\"order_id\",IntegerType(),False), \\\n",
    "        StructField(\"amount\",FloatType(),True) ])\n",
    "df = spark.read.schema(schema).csv(\"../../data/customer-orders.csv\").select([\"customer_id\",\"amount\"])\n",
    "df.show()"
   ]
  },
  {
   "cell_type": "code",
   "execution_count": 23,
   "metadata": {},
   "outputs": [
    {
     "name": "stdout",
     "output_type": "stream",
     "text": [
      "+-----------+------------+\n",
      "|customer_id|amount_spent|\n",
      "+-----------+------------+\n",
      "|         45|     3309.38|\n",
      "|         79|     3790.57|\n",
      "|         96|     3924.23|\n",
      "|         23|     4042.65|\n",
      "|         99|     4172.29|\n",
      "|         75|      4178.5|\n",
      "|         36|     4278.05|\n",
      "|         98|     4297.26|\n",
      "|         47|      4316.3|\n",
      "|         77|     4327.73|\n",
      "|         13|     4367.62|\n",
      "|         48|     4384.33|\n",
      "|         49|      4394.6|\n",
      "|         94|     4475.57|\n",
      "|         67|     4505.79|\n",
      "|         50|     4517.27|\n",
      "|         78|     4524.51|\n",
      "|          5|     4561.07|\n",
      "|         57|      4628.4|\n",
      "|         83|      4635.8|\n",
      "+-----------+------------+\n",
      "only showing top 20 rows\n",
      "\n"
     ]
    }
   ],
   "source": [
    "dfSum = df.groupBy(\"customer_id\").agg(func.round(func.sum(\"amount\"),2).alias(\"amount_spent\")).sort('amount_spent')\n",
    "dfSum.show()"
   ]
  },
  {
   "cell_type": "code",
   "execution_count": 24,
   "metadata": {},
   "outputs": [],
   "source": [
    "spark.stop()"
   ]
  }
 ],
 "metadata": {
  "kernelspec": {
   "display_name": "Python 3.10.6 64-bit",
   "language": "python",
   "name": "python3"
  },
  "language_info": {
   "codemirror_mode": {
    "name": "ipython",
    "version": 3
   },
   "file_extension": ".py",
   "mimetype": "text/x-python",
   "name": "python",
   "nbconvert_exporter": "python",
   "pygments_lexer": "ipython3",
   "version": "3.10.6"
  },
  "orig_nbformat": 4,
  "vscode": {
   "interpreter": {
    "hash": "b0fa6594d8f4cbf19f97940f81e996739fb7646882a419484c72d19e05852a7e"
   }
  }
 },
 "nbformat": 4,
 "nbformat_minor": 2
}
