{
 "cells": [
  {
   "cell_type": "code",
   "execution_count": 34,
   "metadata": {},
   "outputs": [],
   "source": [
    "from pyspark.sql import SparkSession\n",
    "from pyspark.sql import functions as func\n",
    "\n",
    "# Create a SparkSession\n",
    "spark = SparkSession.builder.appName(\"WordCount\").getOrCreate()"
   ]
  },
  {
   "cell_type": "code",
   "execution_count": 35,
   "metadata": {},
   "outputs": [],
   "source": [
    "text = spark.read.text(\"../../data/Book\")"
   ]
  },
  {
   "cell_type": "code",
   "execution_count": 36,
   "metadata": {},
   "outputs": [
    {
     "name": "stdout",
     "output_type": "stream",
     "text": [
      "+----------+\n",
      "|      word|\n",
      "+----------+\n",
      "|      Self|\n",
      "|Employment|\n",
      "|  Building|\n",
      "|        an|\n",
      "|  Internet|\n",
      "|  Business|\n",
      "|        of|\n",
      "|       One|\n",
      "| Achieving|\n",
      "| Financial|\n",
      "|       and|\n",
      "|  Personal|\n",
      "|   Freedom|\n",
      "|   through|\n",
      "|         a|\n",
      "| Lifestyle|\n",
      "|Technology|\n",
      "|  Business|\n",
      "|        By|\n",
      "|     Frank|\n",
      "+----------+\n",
      "only showing top 20 rows\n",
      "\n"
     ]
    }
   ],
   "source": [
    "df = text.select(func.explode(func.split(text.value,\"\\\\W+\")).alias(\"word\"))\n",
    "df.show()"
   ]
  },
  {
   "cell_type": "code",
   "execution_count": 37,
   "metadata": {},
   "outputs": [],
   "source": [
    "dfFiltered = df.filter(df.word != \"\")"
   ]
  },
  {
   "cell_type": "code",
   "execution_count": 38,
   "metadata": {},
   "outputs": [
    {
     "name": "stdout",
     "output_type": "stream",
     "text": [
      "+----------+\n",
      "|      word|\n",
      "+----------+\n",
      "|      self|\n",
      "|employment|\n",
      "|  building|\n",
      "|        an|\n",
      "|  internet|\n",
      "|  business|\n",
      "|        of|\n",
      "|       one|\n",
      "| achieving|\n",
      "| financial|\n",
      "|       and|\n",
      "|  personal|\n",
      "|   freedom|\n",
      "|   through|\n",
      "|         a|\n",
      "| lifestyle|\n",
      "|technology|\n",
      "|  business|\n",
      "|        by|\n",
      "|     frank|\n",
      "+----------+\n",
      "only showing top 20 rows\n",
      "\n"
     ]
    }
   ],
   "source": [
    "dflower = dfFiltered.select(func.lower(dfFiltered.word).alias(\"word\"))\n",
    "dflower.show()"
   ]
  },
  {
   "cell_type": "code",
   "execution_count": 39,
   "metadata": {},
   "outputs": [
    {
     "name": "stdout",
     "output_type": "stream",
     "text": [
      "+-------------+-----+\n",
      "|         word|count|\n",
      "+-------------+-----+\n",
      "|       online|   50|\n",
      "|          few|   40|\n",
      "|         some|  121|\n",
      "|  requirement|    1|\n",
      "|         hope|    5|\n",
      "|        still|   65|\n",
      "|        those|   68|\n",
      "|      barrier|    2|\n",
      "|indoctrinated|    1|\n",
      "|       harder|    3|\n",
      "|         guts|    1|\n",
      "|  interaction|    3|\n",
      "|    connected|    2|\n",
      "|     medicare|    2|\n",
      "|       travel|    5|\n",
      "|    traveling|    1|\n",
      "|   likelihood|    2|\n",
      "|      persist|    1|\n",
      "|    involving|    4|\n",
      "|          art|    3|\n",
      "+-------------+-----+\n",
      "only showing top 20 rows\n",
      "\n"
     ]
    }
   ],
   "source": [
    "dffinal = dflower.groupBy(\"word\").count()\n",
    "dffinal.show()"
   ]
  }
 ],
 "metadata": {
  "kernelspec": {
   "display_name": "Python 3.10.6 64-bit",
   "language": "python",
   "name": "python3"
  },
  "language_info": {
   "codemirror_mode": {
    "name": "ipython",
    "version": 3
   },
   "file_extension": ".py",
   "mimetype": "text/x-python",
   "name": "python",
   "nbconvert_exporter": "python",
   "pygments_lexer": "ipython3",
   "version": "3.10.6"
  },
  "orig_nbformat": 4,
  "vscode": {
   "interpreter": {
    "hash": "b0fa6594d8f4cbf19f97940f81e996739fb7646882a419484c72d19e05852a7e"
   }
  }
 },
 "nbformat": 4,
 "nbformat_minor": 2
}
