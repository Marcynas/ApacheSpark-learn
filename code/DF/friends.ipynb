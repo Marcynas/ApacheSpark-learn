{
 "cells": [
  {
   "cell_type": "code",
   "execution_count": 19,
   "metadata": {},
   "outputs": [],
   "source": [
    "from pyspark.sql import SparkSession\n",
    "\n",
    "# Create a SparkSession\n",
    "spark = SparkSession.builder.appName(\"SparkSQL\").getOrCreate()"
   ]
  },
  {
   "cell_type": "markdown",
   "metadata": {},
   "source": [
    "# Read the data"
   ]
  },
  {
   "cell_type": "code",
   "execution_count": 20,
   "metadata": {},
   "outputs": [
    {
     "name": "stdout",
     "output_type": "stream",
     "text": [
      "+---+--------+---+---+\n",
      "|_c0|     _c1|_c2|_c3|\n",
      "+---+--------+---+---+\n",
      "|  0|    Will| 33|385|\n",
      "|  1|Jean-Luc| 26|  2|\n",
      "|  2|    Hugh| 55|221|\n",
      "|  3|  Deanna| 40|465|\n",
      "|  4|   Quark| 68| 21|\n",
      "|  5|  Weyoun| 59|318|\n",
      "|  6|  Gowron| 37|220|\n",
      "|  7|    Will| 54|307|\n",
      "|  8|  Jadzia| 38|380|\n",
      "|  9|    Hugh| 27|181|\n",
      "| 10|     Odo| 53|191|\n",
      "| 11|     Ben| 57|372|\n",
      "| 12|   Keiko| 54|253|\n",
      "| 13|Jean-Luc| 56|444|\n",
      "| 14|    Hugh| 43| 49|\n",
      "| 15|     Rom| 36| 49|\n",
      "| 16|  Weyoun| 22|323|\n",
      "| 17|     Odo| 35| 13|\n",
      "| 18|Jean-Luc| 45|455|\n",
      "| 19|  Geordi| 60|246|\n",
      "+---+--------+---+---+\n",
      "only showing top 20 rows\n",
      "\n"
     ]
    }
   ],
   "source": [
    "df = spark.read.option(\"header\",\"false\").option(\"inferSchema\",\"true\").csv(\"../../data/fakefriends.csv\")\n",
    "df.show()"
   ]
  },
  {
   "cell_type": "markdown",
   "metadata": {},
   "source": [
    "# Remove people above 21"
   ]
  },
  {
   "cell_type": "code",
   "execution_count": 21,
   "metadata": {},
   "outputs": [
    {
     "name": "stdout",
     "output_type": "stream",
     "text": [
      "+---+-------+---+---+\n",
      "|_c0|    _c1|_c2|_c3|\n",
      "+---+-------+---+---+\n",
      "| 21|  Miles| 19|268|\n",
      "| 48|    Nog| 20|  1|\n",
      "| 52|Beverly| 19|269|\n",
      "| 54|  Brunt| 19|  5|\n",
      "| 60| Geordi| 20|100|\n",
      "| 73|  Brunt| 20|384|\n",
      "|106|Beverly| 18|499|\n",
      "|115|  Dukat| 18|397|\n",
      "|133|  Quark| 19|265|\n",
      "|136|   Will| 19|335|\n",
      "|225|   Elim| 19|106|\n",
      "|304|   Will| 19|404|\n",
      "|327| Julian| 20| 63|\n",
      "|341|   Data| 18|326|\n",
      "|349| Kasidy| 20|277|\n",
      "|366|  Keiko| 19|119|\n",
      "|373|  Quark| 19|272|\n",
      "|377|Beverly| 18|418|\n",
      "|404| Kasidy| 18| 24|\n",
      "|409|    Nog| 19|267|\n",
      "+---+-------+---+---+\n",
      "only showing top 20 rows\n",
      "\n"
     ]
    }
   ],
   "source": [
    "dfFiltered = df.filter(df._c2 < 21)\n",
    "dfFiltered.show()"
   ]
  },
  {
   "cell_type": "markdown",
   "metadata": {},
   "source": [
    "# Group by age and count"
   ]
  },
  {
   "cell_type": "code",
   "execution_count": 22,
   "metadata": {},
   "outputs": [
    {
     "name": "stdout",
     "output_type": "stream",
     "text": [
      "+---+-----+\n",
      "|_c2|count|\n",
      "+---+-----+\n",
      "| 20|    5|\n",
      "| 19|   11|\n",
      "| 18|    8|\n",
      "+---+-----+\n",
      "\n"
     ]
    }
   ],
   "source": [
    "dfGroupped = dfFiltered.groupBy(\"_c2\").count()\n",
    "dfGroupped.show()"
   ]
  },
  {
   "cell_type": "code",
   "execution_count": 23,
   "metadata": {},
   "outputs": [],
   "source": [
    "spark.stop()"
   ]
  }
 ],
 "metadata": {
  "kernelspec": {
   "display_name": "Python 3.10.6 64-bit",
   "language": "python",
   "name": "python3"
  },
  "language_info": {
   "codemirror_mode": {
    "name": "ipython",
    "version": 3
   },
   "file_extension": ".py",
   "mimetype": "text/x-python",
   "name": "python",
   "nbconvert_exporter": "python",
   "pygments_lexer": "ipython3",
   "version": "3.10.6"
  },
  "orig_nbformat": 4,
  "vscode": {
   "interpreter": {
    "hash": "b0fa6594d8f4cbf19f97940f81e996739fb7646882a419484c72d19e05852a7e"
   }
  }
 },
 "nbformat": 4,
 "nbformat_minor": 2
}
